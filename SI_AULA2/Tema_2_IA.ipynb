{
 "cells": [
  {
   "cell_type": "markdown",
   "metadata": {
    "colab_type": "text",
    "id": "view-in-github"
   },
   "source": [
    "<a href=\"https://colab.research.google.com/github/almeida-cma/SI_TEMA2/blob/main/Tema_2_IA.ipynb\" target=\"_parent\"><img src=\"https://colab.research.google.com/assets/colab-badge.svg\" alt=\"Open In Colab\"/></a>"
   ]
  },
  {
   "cell_type": "markdown",
   "id": "6ba508eb",
   "metadata": {
    "id": "6ba508eb"
   },
   "source": [
    "# Tema 2 - Inteligência Artificial"
   ]
  },
  {
   "cell_type": "markdown",
   "id": "2912ca6f",
   "metadata": {
    "id": "2912ca6f"
   },
   "source": [
    "\n",
    "## Introdução\n",
    "A **Inteligência Artificial (IA)** é um campo multidisciplinar que simula capacidades humanas como:\n",
    "- Tomar decisões com base em dados e experiências anteriores;\n",
    "- Reconhecer eventos anormais;\n",
    "- Interpretar dados visuais;\n",
    "- Compreender linguagem escrita e falada;\n",
    "- Participar de diálogos e conversas.\n",
    "\n",
    "A IA tem sido amplamente aplicada em áreas como finanças, logística, marketing, saúde e educação, utilizando tecnologias emergentes como **Robótica**, **Big Data**, **IoT** e **blockchain**.\n"
   ]
  },
  {
   "cell_type": "markdown",
   "id": "db33bcb5",
   "metadata": {
    "id": "db33bcb5"
   },
   "source": [
    "\n",
    "## Subcampos e Evolução\n",
    "### 2.1. Computação Natural\n",
    "Inspirada na natureza, a Computação Natural utiliza:\n",
    "1. **Redes Neurais Artificiais (RNA)** (1943).\n",
    "2. **Computação Evolutiva** (1965).\n",
    "3. **Inteligência de Enxame** (1988).\n",
    "\n",
    "Outras abordagens incluem:\n",
    "- **Vida Artificial** (1998).\n",
    "- **Geometria Fractal** (1982).\n",
    "- Computação Molecular com DNA (1998) e **Computação Quântica** (2000).\n"
   ]
  },
  {
   "cell_type": "markdown",
   "id": "7fbde624",
   "metadata": {
    "id": "7fbde624"
   },
   "source": [
    "\n",
    "### 2.2. Inteligência Computacional (IC)\n",
    "A IC surgiu para desassociar-se da IA clássica. Técnicas incluem:\n",
    "- **Lógica Fuzzy**: Utilizada para lidar com incertezas.\n",
    "- **Machine Learning (ML)**: Inclui aprendizado supervisionado, não supervisionado e por reforço.\n",
    "- **Deep Learning (DL)**: Baseado em grandes volumes de dados e RNA, com aplicações em reconhecimento de voz, imagem e análise comportamental.\n"
   ]
  },
  {
   "cell_type": "markdown",
   "id": "df9b9b82",
   "metadata": {
    "id": "df9b9b82"
   },
   "source": [
    "\n",
    "## Aplicações\n",
    "### Exemplos Práticos\n",
    "- **Detecção de Fraudes**: Algoritmos preveem e simulam fraudes.\n",
    "- **Veículos Autônomos**: Utilizam DL para aumentar a segurança.\n",
    "- **API Google Vision**: Converte imagens em texto.\n",
    "- **Chatbots**: Atendimento automatizado com interação em tempo real.\n",
    "- **Mineração de Sentimentos**: Analisa interações digitais para identificar opiniões e sentimentos.\n"
   ]
  },
  {
   "cell_type": "markdown",
   "id": "8d6e4838",
   "metadata": {
    "id": "8d6e4838"
   },
   "source": [
    "\n",
    "## 2.3. Diretrizes Éticas\n",
    "### Princípios de IA Ética\n",
    "- **Imparcialidade**: Evitar preconceitos nos sistemas.\n",
    "- **Confiabilidade e Segurança**: Garantir robustez e proteção contra falhas.\n",
    "- **Privacidade**: Proteger dados pessoais.\n",
    "- **Inclusão**: Beneficiar pessoas de diversas origens.\n",
    "- **Transparência**: Explicar decisões de IA.\n",
    "- **Responsabilidade**: Assumir impactos causados pelos sistemas.\n"
   ]
  },
  {
   "cell_type": "markdown",
   "id": "732MvRoldn03",
   "metadata": {
    "id": "732MvRoldn03"
   },
   "source": [
    "**Reconhecimento de Dados Visuais: Visão Computacional** é uma área da IA que permite que computadores \"vejam\" e interpretem o mundo visual, ou seja, analisem imagens ou vídeos de maneira similar ao que os humanos fazem.\n",
    "Este código carrega uma imagem, a converte de BGR para RGB, exibe a imagem original, aplica a detecção de bordas usando o algoritmo Canny e exibe a imagem resultante com as bordas detectadas."
   ]
  },
  {
   "cell_type": "code",
   "execution_count": null,
   "id": "91vK_VBshLCz",
   "metadata": {
    "colab": {
     "base_uri": "https://localhost:8080/",
     "height": 839
    },
    "id": "91vK_VBshLCz",
    "outputId": "2a3431e8-f201-4a03-d098-9dba0a60e552"
   },
   "outputs": [
    {
     "ename": "",
     "evalue": "",
     "output_type": "error",
     "traceback": [
      "\u001b[1;31mA execução de células com 'Python 3.10.11' requer o pacote ipykernel.\n",
      "\u001b[1;31mExecute o seguinte comando para instalar \"ipykernel\" no ambiente do Python. \n",
      "\u001b[1;31mComando: \"c:/Users/LabInfo/AppData/Local/Microsoft/WindowsApps/python3.10.exe -m pip install ipykernel -U --user --force-reinstall\""
     ]
    }
   ],
   "source": [
    "# Importando bibliotecas\n",
    "import cv2\n",
    "import matplotlib.pyplot as plt\n",
    "\n",
    "# Carregar uma imagem (use uma imagem de sua preferência ou baixe uma)\n",
    "# Aqui, suponha que a imagem \"imagem.jpg\" esteja no mesmo diretório.\n",
    "imagem = cv2.imread('imagem.jpg')\n",
    "\n",
    "# Convertendo de BGR para RGB\n",
    "imagem_rgb = cv2.cvtColor(imagem, cv2.COLOR_BGR2RGB)\n",
    "\n",
    "# Exibindo a imagem original\n",
    "plt.imshow(imagem_rgb)\n",
    "plt.title(\"Imagem Original\")\n",
    "plt.axis('off')\n",
    "plt.show()\n",
    "\n",
    "# Aplicando detecção de bordas\n",
    "bordas = cv2.Canny(imagem, 100, 200)\n",
    "\n",
    "# Exibindo a imagem com detecção de bordas\n",
    "plt.imshow(bordas, cmap='gray')\n",
    "plt.title(\"Detecção de Bordas\")\n",
    "plt.axis('off')\n",
    "plt.show()\n"
   ]
  },
  {
   "cell_type": "markdown",
   "id": "mz2g6vgVfHM9",
   "metadata": {
    "id": "mz2g6vgVfHM9"
   },
   "source": [
    "**Compreensão da Linguagem Escrita: Análise de sentimentos em um texto**\n",
    "\n",
    "Este código traduz um texto de português para inglês e analisa o sentimento do texto traduzido utilizando o SentimentIntensityAnalyzer. O resultado mostra a classificação do sentimento como \"Positivo\", \"Negativo\" ou \"Neutro\", com base na análise do valor composto da pontuação."
   ]
  },
  {
   "cell_type": "code",
   "execution_count": null,
   "id": "-D9DfpmLkYd3",
   "metadata": {
    "id": "-D9DfpmLkYd3"
   },
   "outputs": [],
   "source": [
    "# Instalar a biblioteca googletrans\n",
    "!pip install googletrans==4.0.0-rc1\n"
   ]
  },
  {
   "cell_type": "code",
   "execution_count": null,
   "id": "D8D1WJp7ktsn",
   "metadata": {
    "colab": {
     "base_uri": "https://localhost:8080/"
    },
    "id": "D8D1WJp7ktsn",
    "outputId": "267d7450-1a07-41ac-ba4b-7744af6ced18"
   },
   "outputs": [],
   "source": [
    "import nltk\n",
    "from nltk.sentiment import SentimentIntensityAnalyzer\n",
    "\n",
    "# Baixar o léxico de sentimentos\n",
    "nltk.download('vader_lexicon')\n",
    "\n",
    "# Criar o analisador\n",
    "analisador = SentimentIntensityAnalyzer()\n",
    "\n",
    "# Entrada de texto\n",
    "texto = \"O time do Flamengo não é muito forte.\"\n",
    "\n",
    "# Para análise mais precisa, traduza o texto para o inglês\n",
    "from googletrans import Translator\n",
    "tradutor = Translator()\n",
    "texto_traduzido = tradutor.translate(texto, src='pt', dest='en').text\n",
    "\n",
    "print(f\"Texto original: {texto}\")\n",
    "print(f\"Texto traduzido: {texto_traduzido}\")\n",
    "\n",
    "# Análise de sentimentos no texto traduzido\n",
    "resultado = analisador.polarity_scores(texto_traduzido)\n",
    "\n",
    "# Exibir os resultados\n",
    "print(\"\\nAnálise de Sentimentos:\")\n",
    "print(f\"Positivo: {resultado['pos']}\")\n",
    "print(f\"Neutro: {resultado['neu']}\")\n",
    "print(f\"Negativo: {resultado['neg']}\")\n",
    "print(f\"Compound Score: {resultado['compound']}\")\n",
    "\n",
    "# Avaliação com base no compound\n",
    "if resultado['compound'] >= 0.05:\n",
    "    sentimento = \"Positivo\"\n",
    "elif resultado['compound'] <= -0.05:\n",
    "    sentimento = \"Negativo\"\n",
    "else:\n",
    "    sentimento = \"Neutro\"\n",
    "\n",
    "print(f\"Sentimento Geral: {sentimento}\")"
   ]
  },
  {
   "cell_type": "markdown",
   "id": "6EF4rvAqffuq",
   "metadata": {
    "id": "6EF4rvAqffuq"
   },
   "source": [
    "**Machine Learning Supervisionado**"
   ]
  },
  {
   "cell_type": "code",
   "execution_count": null,
   "id": "T7NtDJrzus-T",
   "metadata": {
    "colab": {
     "base_uri": "https://localhost:8080/",
     "height": 304,
     "referenced_widgets": [
      "715a813f0c29454e878985bc4e0f4ecb",
      "1310c370790b4589b052db37190048f9",
      "056892ca88a04d1a90dda0681e1e8a6d",
      "f98a63a4b171475baa5a6cdad4f57750",
      "d9a6712dfbc24a8ea5241b75893387ef",
      "00224bc5102d42bb951014c013b72e64",
      "c4af9cf9deff4750bcb68a1db1bc15f7",
      "cf0226c8723346199d872e143dcef0c9",
      "133f80185e80438aa2ffa688b0b0e3ed",
      "baff12478a04482da66565c4a001e078",
      "0d82cb03cbb74627bf691fa403691d3d",
      "6184c4dd50be4e1b861eb62a9e2f8ec6",
      "fc21cd230d934357a275fde7ce90ca76",
      "1af26df5432d4189a5ec2308b5261c45",
      "8dfdf7cde033497fb7adf443bc9ccd7c",
      "9470af8d41414321842d21a9ee699bd8",
      "f1aa617fd85f4be58db0669ed77351a7"
     ]
    },
    "id": "T7NtDJrzus-T",
    "outputId": "05f78a1b-8a59-4724-d8ba-6a285b78daca"
   },
   "outputs": [],
   "source": [
    "# Importar as bibliotecas necessárias\n",
    "import numpy as np\n",
    "import pandas as pd\n",
    "from sklearn import datasets\n",
    "from sklearn.model_selection import train_test_split\n",
    "from sklearn.ensemble import RandomForestClassifier\n",
    "from sklearn.preprocessing import StandardScaler\n",
    "import ipywidgets as widgets\n",
    "from IPython.display import display, Markdown\n",
    "\n",
    "# Carregar o conjunto de dados Iris\n",
    "iris = datasets.load_iris()\n",
    "\n",
    "# Características (features) e rótulos (labels)\n",
    "X = iris.data\n",
    "y = iris.target\n",
    "\n",
    "# Dividir os dados em treino e teste\n",
    "X_train, X_test, y_train, y_test = train_test_split(X, y, test_size=0.3, random_state=42)\n",
    "\n",
    "# Normalizar os dados\n",
    "scaler = StandardScaler()\n",
    "X_train = scaler.fit_transform(X_train)\n",
    "X_test = scaler.transform(X_test)\n",
    "\n",
    "# Treinar o modelo Random Forest\n",
    "model = RandomForestClassifier(n_estimators=100, random_state=42)\n",
    "model.fit(X_train, y_train)\n",
    "\n",
    "# Função para prever a classe da flor\n",
    "def predict_flower(sepal_length, sepal_width, petal_length, petal_width):\n",
    "    # Criar um vetor com os valores inseridos\n",
    "    input_data = np.array([[sepal_length, sepal_width, petal_length, petal_width]])\n",
    "\n",
    "    # Normalizar os dados de entrada\n",
    "    input_data = scaler.transform(input_data)\n",
    "\n",
    "    # Fazer a previsão com o modelo treinado\n",
    "    prediction = model.predict(input_data)\n",
    "\n",
    "    # Mapear o número da classe para o nome da flor\n",
    "    flower_names = iris.target_names\n",
    "    predicted_flower = flower_names[prediction][0]\n",
    "\n",
    "    return f\"A flor prevista é: {predicted_flower}\"\n",
    "\n",
    "# Criar a legenda inicial\n",
    "legend_text = \"\"\"\n",
    "### Legenda:\n",
    "- **Comprimento da sépala**: varia de 4.3 cm a 7.9 cm\n",
    "- **Largura da sépala**: varia de 2.0 cm a 4.4 cm\n",
    "- **Comprimento da pétala**: varia de 1.0 cm a 6.9 cm\n",
    "- **Largura da pétala**: varia de 0.1 cm a 2.5 cm\n",
    "\"\"\"\n",
    "display(Markdown(legend_text))\n",
    "\n",
    "# Criar os widgets para interagir com o modelo\n",
    "sepal_length = widgets.FloatText(value=5.0, description='Comprimento da Sépala:')\n",
    "sepal_width = widgets.FloatText(value=3.0, description='Largura da Sépala:')\n",
    "petal_length = widgets.FloatText(value=4.0, description='Comprimento da Pétala:')\n",
    "petal_width = widgets.FloatText(value=1.3, description='Largura da Pétala:')\n",
    "\n",
    "# Criar um botão para fazer a previsão\n",
    "predict_button = widgets.Button(description=\"Prever Flor\")\n",
    "output = widgets.Output()\n",
    "\n",
    "# Função para exibir a previsão\n",
    "def on_button_click(b):\n",
    "    with output:\n",
    "        output.clear_output()  # Limpar previsões anteriores\n",
    "        # Chamar a função de previsão\n",
    "        prediction = predict_flower(sepal_length.value, sepal_width.value, petal_length.value, petal_width.value)\n",
    "        print(prediction)\n",
    "\n",
    "# Associar a função de previsão ao botão\n",
    "predict_button.on_click(on_button_click)\n",
    "\n",
    "# Exibir os widgets e o botão de previsão\n",
    "display(sepal_length, sepal_width, petal_length, petal_width, predict_button, output)\n"
   ]
  },
  {
   "cell_type": "markdown",
   "id": "TR0aUu5Vgf4T",
   "metadata": {
    "id": "TR0aUu5Vgf4T"
   },
   "source": [
    "**Detecção de Fraudes - Simples**"
   ]
  },
  {
   "cell_type": "code",
   "execution_count": null,
   "id": "Rfi2RALE2DjH",
   "metadata": {
    "colab": {
     "base_uri": "https://localhost:8080/"
    },
    "id": "Rfi2RALE2DjH",
    "outputId": "5f500790-3dad-4c0d-f3e4-ebaa5a830f76"
   },
   "outputs": [],
   "source": [
    "import pandas as pd\n",
    "\n",
    "# Criar um DataFrame com transações fictícias\n",
    "dados = {\n",
    "    \"ID_Transacao\": [1, 2, 3, 4, 5],\n",
    "    \"Valor\": [100, 2000, 150, 5000, 250],\n",
    "    \"Autorizada\": [\"Sim\", \"Não\", \"Sim\", \"Não\", \"Sim\"]\n",
    "}\n",
    "\n",
    "df = pd.DataFrame(dados)\n",
    "\n",
    "# Critério para fraude: transações não autorizadas com valor > 1000\n",
    "df['Fraude'] = (df['Valor'] > 1000) & (df['Autorizada'] == \"Não\")\n",
    "\n",
    "print(\"Dados analisados:\")\n",
    "print(df)\n"
   ]
  },
  {
   "cell_type": "markdown",
   "id": "k8a-ReRTgpcw",
   "metadata": {
    "id": "k8a-ReRTgpcw"
   },
   "source": [
    "**Detecção de Fraudes - Treinamento**"
   ]
  },
  {
   "cell_type": "code",
   "execution_count": null,
   "id": "oj_AmvBT3hEQ",
   "metadata": {
    "colab": {
     "base_uri": "https://localhost:8080/",
     "height": 168,
     "referenced_widgets": [
      "c33f202a129e44fb9a66e1269d9d39d0",
      "41923c890b3b4d56a27d01e4fd8b57a8",
      "ab77b083e6c3419bae4e507b9cef59bc",
      "ee85d3534d24469e8f3d707bf5464281",
      "0c9f538021d74ed492a0c35eae483220",
      "7d6da8dbbe9146499de9923fa272d15f",
      "fb0bf699bc36406fa334011149775741",
      "7408be2bf9094f5a860247db1c5f142a"
     ]
    },
    "id": "oj_AmvBT3hEQ",
    "outputId": "fe1b2e20-9f0c-4a71-8b60-e73e1a34261e"
   },
   "outputs": [],
   "source": [
    "# Importar bibliotecas necessárias\n",
    "import pandas as pd\n",
    "from sklearn.model_selection import train_test_split\n",
    "from sklearn.ensemble import RandomForestClassifier\n",
    "import ipywidgets as widgets\n",
    "from IPython.display import display, clear_output\n",
    "\n",
    "# Criar um conjunto de dados fictício com 20 transações\n",
    "dados = {\n",
    "    \"ID_Transacao\": range(1, 21),\n",
    "    \"Valor\": [100, 2000, 150, 5000, 250, 300, 4000, 3500, 500, 700,\n",
    "              1200, 6000, 800, 50, 75, 4500, 200, 2500, 900, 110],\n",
    "    \"Fraude\": [0, 1, 0, 1, 0, 0, 1, 1, 0, 0,\n",
    "               1, 1, 0, 0, 0, 1, 0, 1, 0, 0]  # 1 = Fraude, 0 = Não Fraude\n",
    "}\n",
    "\n",
    "# Criar DataFrame\n",
    "df = pd.DataFrame(dados)\n",
    "\n",
    "# Separar recursos (features) e rótulo (target)\n",
    "X = df[[\"Valor\"]]\n",
    "y = df[\"Fraude\"]\n",
    "\n",
    "# Dividir os dados em treino e teste\n",
    "X_train, X_test, y_train, y_test = train_test_split(X, y, test_size=0.3, random_state=42)\n",
    "\n",
    "# Criar e treinar o modelo Random Forest\n",
    "modelo = RandomForestClassifier(n_estimators=100, random_state=42)\n",
    "modelo.fit(X_train, y_train)\n",
    "\n",
    "# Função para prever fraudes\n",
    "def prever_fraude(valor):\n",
    "    # Criar uma entrada de teste\n",
    "    entrada = pd.DataFrame({\"Valor\": [valor]})\n",
    "\n",
    "    # Fazer a previsão\n",
    "    predicao = modelo.predict(entrada)[0]\n",
    "\n",
    "    # Retornar o resultado\n",
    "    return \"Fraude\" if predicao == 1 else \"Não Fraude\"\n",
    "\n",
    "# Criar widgets interativos\n",
    "valor_widget = widgets.FloatText(description=\"Valor da Transação:\")\n",
    "botao = widgets.Button(description=\"Verificar\")\n",
    "saida = widgets.Output()\n",
    "\n",
    "# Função para lidar com o clique no botão\n",
    "def on_button_click(b):\n",
    "    clear_output(wait=True)  # Limpar a saída anterior\n",
    "    valor = valor_widget.value\n",
    "\n",
    "    # Fazer a previsão\n",
    "    resultado = prever_fraude(valor)\n",
    "\n",
    "    # Mostrar o resultado\n",
    "    with saida:\n",
    "        print(f\"Resultado: A transação é {resultado}!\")\n",
    "\n",
    "# Associar a função ao botão\n",
    "botao.on_click(on_button_click)\n",
    "\n",
    "# Exibir os widgets\n",
    "display(valor_widget, botao, saida)\n"
   ]
  },
  {
   "cell_type": "markdown",
   "id": "H6LG6Ip4g1lU",
   "metadata": {
    "id": "H6LG6Ip4g1lU"
   },
   "source": [
    "**Redes Neurais Artificiais **"
   ]
  },
  {
   "cell_type": "code",
   "execution_count": null,
   "id": "o9_P1knv7C0w",
   "metadata": {
    "colab": {
     "base_uri": "https://localhost:8080/"
    },
    "id": "o9_P1knv7C0w",
    "outputId": "c1f908db-152d-4199-981f-aa308e2c83c7"
   },
   "outputs": [],
   "source": [
    "import tensorflow as tf\n",
    "import numpy as np\n",
    "from tensorflow.keras.models import Sequential\n",
    "from tensorflow.keras.layers import Dense\n",
    "\n",
    "# Criar dados fictícios para treinamento (valores de x e seus quadrados)\n",
    "X = np.array([[i] for i in range(10)])  # Criando valores de 0 a 9 como array NumPy\n",
    "y = np.array([[i**2] for i in range(10)])  # Quadrado dos valores de X\n",
    "\n",
    "# Criar o modelo\n",
    "modelo = Sequential([\n",
    "    Dense(10, input_dim=1, activation='relu'),  # Camada oculta\n",
    "    Dense(1, activation='linear')  # Camada de saída\n",
    "])\n",
    "\n",
    "# Compilar o modelo\n",
    "modelo.compile(optimizer='adam', loss='mse')\n",
    "\n",
    "# Aumentando o número de épocas para treinar mais o modelo\n",
    "modelo.fit(X, y, epochs=1000, verbose=0)  # Adicionando verbose=0\n",
    "\n",
    "# Visualizando as previsões após o treinamento\n",
    "entrada = np.array([[5]])  # Transformando a entrada em array NumPy\n",
    "saida = modelo.predict(entrada)\n",
    "print(f\"Entrada: {entrada[0][0]} -> Previsão: {saida[0][0]:.2f}\")"
   ]
  }
 ],
 "metadata": {
  "colab": {
   "include_colab_link": true,
   "provenance": []
  },
  "kernelspec": {
   "display_name": "Python 3",
   "name": "python3"
  },
  "language_info": {
   "name": "python",
   "version": "3.10.11"
  },
  "widgets": {
   "application/vnd.jupyter.widget-state+json": {
    "00224bc5102d42bb951014c013b72e64": {
     "model_module": "@jupyter-widgets/controls",
     "model_module_version": "1.5.0",
     "model_name": "DescriptionStyleModel",
     "state": {
      "_model_module": "@jupyter-widgets/controls",
      "_model_module_version": "1.5.0",
      "_model_name": "DescriptionStyleModel",
      "_view_count": null,
      "_view_module": "@jupyter-widgets/base",
      "_view_module_version": "1.2.0",
      "_view_name": "StyleView",
      "description_width": ""
     }
    },
    "056892ca88a04d1a90dda0681e1e8a6d": {
     "model_module": "@jupyter-widgets/controls",
     "model_module_version": "1.5.0",
     "model_name": "DescriptionStyleModel",
     "state": {
      "_model_module": "@jupyter-widgets/controls",
      "_model_module_version": "1.5.0",
      "_model_name": "DescriptionStyleModel",
      "_view_count": null,
      "_view_module": "@jupyter-widgets/base",
      "_view_module_version": "1.2.0",
      "_view_name": "StyleView",
      "description_width": ""
     }
    },
    "0c9f538021d74ed492a0c35eae483220": {
     "model_module": "@jupyter-widgets/base",
     "model_module_version": "1.2.0",
     "model_name": "LayoutModel",
     "state": {
      "_model_module": "@jupyter-widgets/base",
      "_model_module_version": "1.2.0",
      "_model_name": "LayoutModel",
      "_view_count": null,
      "_view_module": "@jupyter-widgets/base",
      "_view_module_version": "1.2.0",
      "_view_name": "LayoutView",
      "align_content": null,
      "align_items": null,
      "align_self": null,
      "border": null,
      "bottom": null,
      "display": null,
      "flex": null,
      "flex_flow": null,
      "grid_area": null,
      "grid_auto_columns": null,
      "grid_auto_flow": null,
      "grid_auto_rows": null,
      "grid_column": null,
      "grid_gap": null,
      "grid_row": null,
      "grid_template_areas": null,
      "grid_template_columns": null,
      "grid_template_rows": null,
      "height": null,
      "justify_content": null,
      "justify_items": null,
      "left": null,
      "margin": null,
      "max_height": null,
      "max_width": null,
      "min_height": null,
      "min_width": null,
      "object_fit": null,
      "object_position": null,
      "order": null,
      "overflow": null,
      "overflow_x": null,
      "overflow_y": null,
      "padding": null,
      "right": null,
      "top": null,
      "visibility": null,
      "width": null
     }
    },
    "0d82cb03cbb74627bf691fa403691d3d": {
     "model_module": "@jupyter-widgets/base",
     "model_module_version": "1.2.0",
     "model_name": "LayoutModel",
     "state": {
      "_model_module": "@jupyter-widgets/base",
      "_model_module_version": "1.2.0",
      "_model_name": "LayoutModel",
      "_view_count": null,
      "_view_module": "@jupyter-widgets/base",
      "_view_module_version": "1.2.0",
      "_view_name": "LayoutView",
      "align_content": null,
      "align_items": null,
      "align_self": null,
      "border": null,
      "bottom": null,
      "display": null,
      "flex": null,
      "flex_flow": null,
      "grid_area": null,
      "grid_auto_columns": null,
      "grid_auto_flow": null,
      "grid_auto_rows": null,
      "grid_column": null,
      "grid_gap": null,
      "grid_row": null,
      "grid_template_areas": null,
      "grid_template_columns": null,
      "grid_template_rows": null,
      "height": null,
      "justify_content": null,
      "justify_items": null,
      "left": null,
      "margin": null,
      "max_height": null,
      "max_width": null,
      "min_height": null,
      "min_width": null,
      "object_fit": null,
      "object_position": null,
      "order": null,
      "overflow": null,
      "overflow_x": null,
      "overflow_y": null,
      "padding": null,
      "right": null,
      "top": null,
      "visibility": null,
      "width": null
     }
    },
    "1310c370790b4589b052db37190048f9": {
     "model_module": "@jupyter-widgets/base",
     "model_module_version": "1.2.0",
     "model_name": "LayoutModel",
     "state": {
      "_model_module": "@jupyter-widgets/base",
      "_model_module_version": "1.2.0",
      "_model_name": "LayoutModel",
      "_view_count": null,
      "_view_module": "@jupyter-widgets/base",
      "_view_module_version": "1.2.0",
      "_view_name": "LayoutView",
      "align_content": null,
      "align_items": null,
      "align_self": null,
      "border": null,
      "bottom": null,
      "display": null,
      "flex": null,
      "flex_flow": null,
      "grid_area": null,
      "grid_auto_columns": null,
      "grid_auto_flow": null,
      "grid_auto_rows": null,
      "grid_column": null,
      "grid_gap": null,
      "grid_row": null,
      "grid_template_areas": null,
      "grid_template_columns": null,
      "grid_template_rows": null,
      "height": null,
      "justify_content": null,
      "justify_items": null,
      "left": null,
      "margin": null,
      "max_height": null,
      "max_width": null,
      "min_height": null,
      "min_width": null,
      "object_fit": null,
      "object_position": null,
      "order": null,
      "overflow": null,
      "overflow_x": null,
      "overflow_y": null,
      "padding": null,
      "right": null,
      "top": null,
      "visibility": null,
      "width": null
     }
    },
    "133f80185e80438aa2ffa688b0b0e3ed": {
     "model_module": "@jupyter-widgets/controls",
     "model_module_version": "1.5.0",
     "model_name": "DescriptionStyleModel",
     "state": {
      "_model_module": "@jupyter-widgets/controls",
      "_model_module_version": "1.5.0",
      "_model_name": "DescriptionStyleModel",
      "_view_count": null,
      "_view_module": "@jupyter-widgets/base",
      "_view_module_version": "1.2.0",
      "_view_name": "StyleView",
      "description_width": ""
     }
    },
    "1af26df5432d4189a5ec2308b5261c45": {
     "model_module": "@jupyter-widgets/base",
     "model_module_version": "1.2.0",
     "model_name": "LayoutModel",
     "state": {
      "_model_module": "@jupyter-widgets/base",
      "_model_module_version": "1.2.0",
      "_model_name": "LayoutModel",
      "_view_count": null,
      "_view_module": "@jupyter-widgets/base",
      "_view_module_version": "1.2.0",
      "_view_name": "LayoutView",
      "align_content": null,
      "align_items": null,
      "align_self": null,
      "border": null,
      "bottom": null,
      "display": null,
      "flex": null,
      "flex_flow": null,
      "grid_area": null,
      "grid_auto_columns": null,
      "grid_auto_flow": null,
      "grid_auto_rows": null,
      "grid_column": null,
      "grid_gap": null,
      "grid_row": null,
      "grid_template_areas": null,
      "grid_template_columns": null,
      "grid_template_rows": null,
      "height": null,
      "justify_content": null,
      "justify_items": null,
      "left": null,
      "margin": null,
      "max_height": null,
      "max_width": null,
      "min_height": null,
      "min_width": null,
      "object_fit": null,
      "object_position": null,
      "order": null,
      "overflow": null,
      "overflow_x": null,
      "overflow_y": null,
      "padding": null,
      "right": null,
      "top": null,
      "visibility": null,
      "width": null
     }
    },
    "41923c890b3b4d56a27d01e4fd8b57a8": {
     "model_module": "@jupyter-widgets/base",
     "model_module_version": "1.2.0",
     "model_name": "LayoutModel",
     "state": {
      "_model_module": "@jupyter-widgets/base",
      "_model_module_version": "1.2.0",
      "_model_name": "LayoutModel",
      "_view_count": null,
      "_view_module": "@jupyter-widgets/base",
      "_view_module_version": "1.2.0",
      "_view_name": "LayoutView",
      "align_content": null,
      "align_items": null,
      "align_self": null,
      "border": null,
      "bottom": null,
      "display": null,
      "flex": null,
      "flex_flow": null,
      "grid_area": null,
      "grid_auto_columns": null,
      "grid_auto_flow": null,
      "grid_auto_rows": null,
      "grid_column": null,
      "grid_gap": null,
      "grid_row": null,
      "grid_template_areas": null,
      "grid_template_columns": null,
      "grid_template_rows": null,
      "height": null,
      "justify_content": null,
      "justify_items": null,
      "left": null,
      "margin": null,
      "max_height": null,
      "max_width": null,
      "min_height": null,
      "min_width": null,
      "object_fit": null,
      "object_position": null,
      "order": null,
      "overflow": null,
      "overflow_x": null,
      "overflow_y": null,
      "padding": null,
      "right": null,
      "top": null,
      "visibility": null,
      "width": null
     }
    },
    "6184c4dd50be4e1b861eb62a9e2f8ec6": {
     "model_module": "@jupyter-widgets/controls",
     "model_module_version": "1.5.0",
     "model_name": "DescriptionStyleModel",
     "state": {
      "_model_module": "@jupyter-widgets/controls",
      "_model_module_version": "1.5.0",
      "_model_name": "DescriptionStyleModel",
      "_view_count": null,
      "_view_module": "@jupyter-widgets/base",
      "_view_module_version": "1.2.0",
      "_view_name": "StyleView",
      "description_width": ""
     }
    },
    "715a813f0c29454e878985bc4e0f4ecb": {
     "model_module": "@jupyter-widgets/controls",
     "model_module_version": "1.5.0",
     "model_name": "FloatTextModel",
     "state": {
      "_dom_classes": [],
      "_model_module": "@jupyter-widgets/controls",
      "_model_module_version": "1.5.0",
      "_model_name": "FloatTextModel",
      "_view_count": null,
      "_view_module": "@jupyter-widgets/controls",
      "_view_module_version": "1.5.0",
      "_view_name": "FloatTextView",
      "continuous_update": false,
      "description": "Comprimento da Sépala:",
      "description_tooltip": null,
      "disabled": false,
      "layout": "IPY_MODEL_1310c370790b4589b052db37190048f9",
      "step": null,
      "style": "IPY_MODEL_056892ca88a04d1a90dda0681e1e8a6d",
      "value": 4.7
     }
    },
    "7408be2bf9094f5a860247db1c5f142a": {
     "model_module": "@jupyter-widgets/base",
     "model_module_version": "1.2.0",
     "model_name": "LayoutModel",
     "state": {
      "_model_module": "@jupyter-widgets/base",
      "_model_module_version": "1.2.0",
      "_model_name": "LayoutModel",
      "_view_count": null,
      "_view_module": "@jupyter-widgets/base",
      "_view_module_version": "1.2.0",
      "_view_name": "LayoutView",
      "align_content": null,
      "align_items": null,
      "align_self": null,
      "border": null,
      "bottom": null,
      "display": null,
      "flex": null,
      "flex_flow": null,
      "grid_area": null,
      "grid_auto_columns": null,
      "grid_auto_flow": null,
      "grid_auto_rows": null,
      "grid_column": null,
      "grid_gap": null,
      "grid_row": null,
      "grid_template_areas": null,
      "grid_template_columns": null,
      "grid_template_rows": null,
      "height": null,
      "justify_content": null,
      "justify_items": null,
      "left": null,
      "margin": null,
      "max_height": null,
      "max_width": null,
      "min_height": null,
      "min_width": null,
      "object_fit": null,
      "object_position": null,
      "order": null,
      "overflow": null,
      "overflow_x": null,
      "overflow_y": null,
      "padding": null,
      "right": null,
      "top": null,
      "visibility": null,
      "width": null
     }
    },
    "7d6da8dbbe9146499de9923fa272d15f": {
     "model_module": "@jupyter-widgets/controls",
     "model_module_version": "1.5.0",
     "model_name": "ButtonStyleModel",
     "state": {
      "_model_module": "@jupyter-widgets/controls",
      "_model_module_version": "1.5.0",
      "_model_name": "ButtonStyleModel",
      "_view_count": null,
      "_view_module": "@jupyter-widgets/base",
      "_view_module_version": "1.2.0",
      "_view_name": "StyleView",
      "button_color": null,
      "font_weight": ""
     }
    },
    "8dfdf7cde033497fb7adf443bc9ccd7c": {
     "model_module": "@jupyter-widgets/controls",
     "model_module_version": "1.5.0",
     "model_name": "ButtonStyleModel",
     "state": {
      "_model_module": "@jupyter-widgets/controls",
      "_model_module_version": "1.5.0",
      "_model_name": "ButtonStyleModel",
      "_view_count": null,
      "_view_module": "@jupyter-widgets/base",
      "_view_module_version": "1.2.0",
      "_view_name": "StyleView",
      "button_color": null,
      "font_weight": ""
     }
    },
    "9470af8d41414321842d21a9ee699bd8": {
     "model_module": "@jupyter-widgets/output",
     "model_module_version": "1.0.0",
     "model_name": "OutputModel",
     "state": {
      "_dom_classes": [],
      "_model_module": "@jupyter-widgets/output",
      "_model_module_version": "1.0.0",
      "_model_name": "OutputModel",
      "_view_count": null,
      "_view_module": "@jupyter-widgets/output",
      "_view_module_version": "1.0.0",
      "_view_name": "OutputView",
      "layout": "IPY_MODEL_f1aa617fd85f4be58db0669ed77351a7",
      "msg_id": "",
      "outputs": [
       {
        "name": "stdout",
        "output_type": "stream",
        "text": [
         "A flor prevista é: setosa\n"
        ]
       }
      ]
     }
    },
    "ab77b083e6c3419bae4e507b9cef59bc": {
     "model_module": "@jupyter-widgets/controls",
     "model_module_version": "1.5.0",
     "model_name": "DescriptionStyleModel",
     "state": {
      "_model_module": "@jupyter-widgets/controls",
      "_model_module_version": "1.5.0",
      "_model_name": "DescriptionStyleModel",
      "_view_count": null,
      "_view_module": "@jupyter-widgets/base",
      "_view_module_version": "1.2.0",
      "_view_name": "StyleView",
      "description_width": ""
     }
    },
    "baff12478a04482da66565c4a001e078": {
     "model_module": "@jupyter-widgets/controls",
     "model_module_version": "1.5.0",
     "model_name": "FloatTextModel",
     "state": {
      "_dom_classes": [],
      "_model_module": "@jupyter-widgets/controls",
      "_model_module_version": "1.5.0",
      "_model_name": "FloatTextModel",
      "_view_count": null,
      "_view_module": "@jupyter-widgets/controls",
      "_view_module_version": "1.5.0",
      "_view_name": "FloatTextView",
      "continuous_update": false,
      "description": "Largura da Pétala:",
      "description_tooltip": null,
      "disabled": false,
      "layout": "IPY_MODEL_0d82cb03cbb74627bf691fa403691d3d",
      "step": null,
      "style": "IPY_MODEL_6184c4dd50be4e1b861eb62a9e2f8ec6",
      "value": 0.2
     }
    },
    "c33f202a129e44fb9a66e1269d9d39d0": {
     "model_module": "@jupyter-widgets/controls",
     "model_module_version": "1.5.0",
     "model_name": "FloatTextModel",
     "state": {
      "_dom_classes": [],
      "_model_module": "@jupyter-widgets/controls",
      "_model_module_version": "1.5.0",
      "_model_name": "FloatTextModel",
      "_view_count": null,
      "_view_module": "@jupyter-widgets/controls",
      "_view_module_version": "1.5.0",
      "_view_name": "FloatTextView",
      "continuous_update": false,
      "description": "Valor da Transação:",
      "description_tooltip": null,
      "disabled": false,
      "layout": "IPY_MODEL_41923c890b3b4d56a27d01e4fd8b57a8",
      "step": null,
      "style": "IPY_MODEL_ab77b083e6c3419bae4e507b9cef59bc",
      "value": 30009
     }
    },
    "c4af9cf9deff4750bcb68a1db1bc15f7": {
     "model_module": "@jupyter-widgets/controls",
     "model_module_version": "1.5.0",
     "model_name": "FloatTextModel",
     "state": {
      "_dom_classes": [],
      "_model_module": "@jupyter-widgets/controls",
      "_model_module_version": "1.5.0",
      "_model_name": "FloatTextModel",
      "_view_count": null,
      "_view_module": "@jupyter-widgets/controls",
      "_view_module_version": "1.5.0",
      "_view_name": "FloatTextView",
      "continuous_update": false,
      "description": "Comprimento da Pétala:",
      "description_tooltip": null,
      "disabled": false,
      "layout": "IPY_MODEL_cf0226c8723346199d872e143dcef0c9",
      "step": null,
      "style": "IPY_MODEL_133f80185e80438aa2ffa688b0b0e3ed",
      "value": 1.3
     }
    },
    "cf0226c8723346199d872e143dcef0c9": {
     "model_module": "@jupyter-widgets/base",
     "model_module_version": "1.2.0",
     "model_name": "LayoutModel",
     "state": {
      "_model_module": "@jupyter-widgets/base",
      "_model_module_version": "1.2.0",
      "_model_name": "LayoutModel",
      "_view_count": null,
      "_view_module": "@jupyter-widgets/base",
      "_view_module_version": "1.2.0",
      "_view_name": "LayoutView",
      "align_content": null,
      "align_items": null,
      "align_self": null,
      "border": null,
      "bottom": null,
      "display": null,
      "flex": null,
      "flex_flow": null,
      "grid_area": null,
      "grid_auto_columns": null,
      "grid_auto_flow": null,
      "grid_auto_rows": null,
      "grid_column": null,
      "grid_gap": null,
      "grid_row": null,
      "grid_template_areas": null,
      "grid_template_columns": null,
      "grid_template_rows": null,
      "height": null,
      "justify_content": null,
      "justify_items": null,
      "left": null,
      "margin": null,
      "max_height": null,
      "max_width": null,
      "min_height": null,
      "min_width": null,
      "object_fit": null,
      "object_position": null,
      "order": null,
      "overflow": null,
      "overflow_x": null,
      "overflow_y": null,
      "padding": null,
      "right": null,
      "top": null,
      "visibility": null,
      "width": null
     }
    },
    "d9a6712dfbc24a8ea5241b75893387ef": {
     "model_module": "@jupyter-widgets/base",
     "model_module_version": "1.2.0",
     "model_name": "LayoutModel",
     "state": {
      "_model_module": "@jupyter-widgets/base",
      "_model_module_version": "1.2.0",
      "_model_name": "LayoutModel",
      "_view_count": null,
      "_view_module": "@jupyter-widgets/base",
      "_view_module_version": "1.2.0",
      "_view_name": "LayoutView",
      "align_content": null,
      "align_items": null,
      "align_self": null,
      "border": null,
      "bottom": null,
      "display": null,
      "flex": null,
      "flex_flow": null,
      "grid_area": null,
      "grid_auto_columns": null,
      "grid_auto_flow": null,
      "grid_auto_rows": null,
      "grid_column": null,
      "grid_gap": null,
      "grid_row": null,
      "grid_template_areas": null,
      "grid_template_columns": null,
      "grid_template_rows": null,
      "height": null,
      "justify_content": null,
      "justify_items": null,
      "left": null,
      "margin": null,
      "max_height": null,
      "max_width": null,
      "min_height": null,
      "min_width": null,
      "object_fit": null,
      "object_position": null,
      "order": null,
      "overflow": null,
      "overflow_x": null,
      "overflow_y": null,
      "padding": null,
      "right": null,
      "top": null,
      "visibility": null,
      "width": null
     }
    },
    "ee85d3534d24469e8f3d707bf5464281": {
     "model_module": "@jupyter-widgets/controls",
     "model_module_version": "1.5.0",
     "model_name": "ButtonModel",
     "state": {
      "_dom_classes": [],
      "_model_module": "@jupyter-widgets/controls",
      "_model_module_version": "1.5.0",
      "_model_name": "ButtonModel",
      "_view_count": null,
      "_view_module": "@jupyter-widgets/controls",
      "_view_module_version": "1.5.0",
      "_view_name": "ButtonView",
      "button_style": "",
      "description": "Verificar",
      "disabled": false,
      "icon": "",
      "layout": "IPY_MODEL_0c9f538021d74ed492a0c35eae483220",
      "style": "IPY_MODEL_7d6da8dbbe9146499de9923fa272d15f",
      "tooltip": ""
     }
    },
    "f1aa617fd85f4be58db0669ed77351a7": {
     "model_module": "@jupyter-widgets/base",
     "model_module_version": "1.2.0",
     "model_name": "LayoutModel",
     "state": {
      "_model_module": "@jupyter-widgets/base",
      "_model_module_version": "1.2.0",
      "_model_name": "LayoutModel",
      "_view_count": null,
      "_view_module": "@jupyter-widgets/base",
      "_view_module_version": "1.2.0",
      "_view_name": "LayoutView",
      "align_content": null,
      "align_items": null,
      "align_self": null,
      "border": null,
      "bottom": null,
      "display": null,
      "flex": null,
      "flex_flow": null,
      "grid_area": null,
      "grid_auto_columns": null,
      "grid_auto_flow": null,
      "grid_auto_rows": null,
      "grid_column": null,
      "grid_gap": null,
      "grid_row": null,
      "grid_template_areas": null,
      "grid_template_columns": null,
      "grid_template_rows": null,
      "height": null,
      "justify_content": null,
      "justify_items": null,
      "left": null,
      "margin": null,
      "max_height": null,
      "max_width": null,
      "min_height": null,
      "min_width": null,
      "object_fit": null,
      "object_position": null,
      "order": null,
      "overflow": null,
      "overflow_x": null,
      "overflow_y": null,
      "padding": null,
      "right": null,
      "top": null,
      "visibility": null,
      "width": null
     }
    },
    "f98a63a4b171475baa5a6cdad4f57750": {
     "model_module": "@jupyter-widgets/controls",
     "model_module_version": "1.5.0",
     "model_name": "FloatTextModel",
     "state": {
      "_dom_classes": [],
      "_model_module": "@jupyter-widgets/controls",
      "_model_module_version": "1.5.0",
      "_model_name": "FloatTextModel",
      "_view_count": null,
      "_view_module": "@jupyter-widgets/controls",
      "_view_module_version": "1.5.0",
      "_view_name": "FloatTextView",
      "continuous_update": false,
      "description": "Largura da Sépala:",
      "description_tooltip": null,
      "disabled": false,
      "layout": "IPY_MODEL_d9a6712dfbc24a8ea5241b75893387ef",
      "step": null,
      "style": "IPY_MODEL_00224bc5102d42bb951014c013b72e64",
      "value": 3.2
     }
    },
    "fb0bf699bc36406fa334011149775741": {
     "model_module": "@jupyter-widgets/output",
     "model_module_version": "1.0.0",
     "model_name": "OutputModel",
     "state": {
      "_dom_classes": [],
      "_model_module": "@jupyter-widgets/output",
      "_model_module_version": "1.0.0",
      "_model_name": "OutputModel",
      "_view_count": null,
      "_view_module": "@jupyter-widgets/output",
      "_view_module_version": "1.0.0",
      "_view_name": "OutputView",
      "layout": "IPY_MODEL_7408be2bf9094f5a860247db1c5f142a",
      "msg_id": "",
      "outputs": [
       {
        "name": "stdout",
        "output_type": "stream",
        "text": [
         "Resultado: A transação é Não Fraude!\n"
        ]
       },
       {
        "name": "stdout",
        "output_type": "stream",
        "text": [
         "Resultado: A transação é Não Fraude!\n"
        ]
       },
       {
        "name": "stdout",
        "output_type": "stream",
        "text": [
         "Resultado: A transação é Não Fraude!\n"
        ]
       },
       {
        "name": "stdout",
        "output_type": "stream",
        "text": [
         "Resultado: A transação é Fraude!\n"
        ]
       },
       {
        "name": "stdout",
        "output_type": "stream",
        "text": [
         "Resultado: A transação é Fraude!\n"
        ]
       }
      ]
     }
    },
    "fc21cd230d934357a275fde7ce90ca76": {
     "model_module": "@jupyter-widgets/controls",
     "model_module_version": "1.5.0",
     "model_name": "ButtonModel",
     "state": {
      "_dom_classes": [],
      "_model_module": "@jupyter-widgets/controls",
      "_model_module_version": "1.5.0",
      "_model_name": "ButtonModel",
      "_view_count": null,
      "_view_module": "@jupyter-widgets/controls",
      "_view_module_version": "1.5.0",
      "_view_name": "ButtonView",
      "button_style": "",
      "description": "Prever Flor",
      "disabled": false,
      "icon": "",
      "layout": "IPY_MODEL_1af26df5432d4189a5ec2308b5261c45",
      "style": "IPY_MODEL_8dfdf7cde033497fb7adf443bc9ccd7c",
      "tooltip": ""
     }
    }
   }
  }
 },
 "nbformat": 4,
 "nbformat_minor": 5
}
